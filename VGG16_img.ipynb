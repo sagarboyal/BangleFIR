{
  "nbformat": 4,
  "nbformat_minor": 0,
  "metadata": {
    "colab": {
      "name": "VGG16_img.ipynb",
      "provenance": [],
      "collapsed_sections": []
    },
    "kernelspec": {
      "name": "python3",
      "display_name": "Python 3"
    },
    "language_info": {
      "name": "python"
    }
  },
  "cells": [
    {
      "cell_type": "code",
      "metadata": {
        "id": "RlSlFhip0JLC"
      },
      "source": [
        "import numpy as np\n",
        "import h5py\n",
        "def read_train_hdf5():\n",
        "    images, labels = [], []\n",
        "    # Open the HDF5 file\n",
        "    file = h5py.File(\"/content/drive/MyDrive/Necklace_Gallery.hdf5\", \"r+\")\n",
        "    images = np.array(file[\"/train_img\"]).astype(\"uint8\")\n",
        "    labels = np.array(file[\"/train_labels\"]).astype(\"uint8\")\n",
        "    return images, labels\n",
        "\n",
        "def read_query_hdf5():\n",
        "    images, labels = [], []\n",
        "    # Open the HDF5 file\n",
        "    file = h5py.File(\"/content/drive/MyDrive/Necklace_Query.hdf5\", \"r+\")\n",
        "    images = np.array(file[\"/train_img\"]).astype(\"uint8\")\n",
        "    labels = np.array(file[\"/train_labels\"]).astype(\"uint8\")\n",
        "    return images, labels"
      ],
      "execution_count": null,
      "outputs": []
    },
    {
      "cell_type": "code",
      "metadata": {
        "id": "0rSTU3m90Ne5"
      },
      "source": [
        "train_img,train_labels=read_train_hdf5()\n",
        "query_img,query_labels=read_query_hdf5()"
      ],
      "execution_count": null,
      "outputs": []
    },
    {
      "cell_type": "code",
      "metadata": {
        "id": "X6bGLuu60PgX"
      },
      "source": [
        "from keras.applications.vgg16 import VGG16\n",
        "from keras.preprocessing import image\n",
        "from keras.applications.vgg16 import preprocess_input, decode_predictions\n",
        "from keras.models import Model\n",
        "import numpy as np\n",
        "from os import listdir, walk\n",
        "from os.path import isfile, join\n",
        "import itertools"
      ],
      "execution_count": null,
      "outputs": []
    },
    {
      "cell_type": "code",
      "metadata": {
        "id": "y2RUhJRy0Rqb"
      },
      "source": [
        "def predict(img, model: Model):\n",
        "    #print(img_path)\n",
        "    #img = image.load_img(img_path, target_size=(224, 224))\n",
        "    #x = image.img_to_array(img)\n",
        "    x=img\n",
        "    x = np.expand_dims(x, axis=0)\n",
        "    x = preprocess_input(x)\n",
        "    return model.predict(x)\n",
        "def findDifference(f1, f2):\n",
        "    return np.linalg.norm(f1-f2)"
      ],
      "execution_count": null,
      "outputs": []
    },
    {
      "cell_type": "code",
      "metadata": {
        "id": "dxuIsVhj0T8G",
        "colab": {
          "base_uri": "https://localhost:8080/"
        },
        "outputId": "33aab1c3-544a-4fae-bac7-01106f95e825"
      },
      "source": [
        "model = VGG16(weights='imagenet')\n",
        "#model = ResNet50(weights='imagenet')\n",
        "total_galery=train_img.shape[0]\n",
        "all_feature=[]\n",
        "for i in range(total_galery):\n",
        "  feature_vector_train=predict(train_img[i],model)\n",
        "  all_feature.append(feature_vector_train)"
      ],
      "execution_count": null,
      "outputs": [
        {
          "output_type": "stream",
          "text": [
            "Downloading data from https://storage.googleapis.com/tensorflow/keras-applications/vgg16/vgg16_weights_tf_dim_ordering_tf_kernels.h5\n",
            "553467904/553467096 [==============================] - 7s 0us/step\n",
            "553476096/553467096 [==============================] - 7s 0us/step\n"
          ],
          "name": "stdout"
        }
      ]
    },
    {
      "cell_type": "code",
      "metadata": {
        "id": "yjD1PKul0WJ6"
      },
      "source": [
        "def findDist(query_img,all_feature,model):\n",
        "  res=[]\n",
        "  feature_vector_query=predict(query_img,model)\n",
        "  for i in range(len(all_feature)):\n",
        "    dist=findDifference(all_feature[i],feature_vector_query)\n",
        "    res.append(dist)\n",
        "  return res"
      ],
      "execution_count": null,
      "outputs": []
    },
    {
      "cell_type": "code",
      "metadata": {
        "id": "gxAsLZm60uaF"
      },
      "source": [
        "import matplotlib.pyplot as plt\n",
        "import sys"
      ],
      "execution_count": null,
      "outputs": []
    },
    {
      "cell_type": "code",
      "metadata": {
        "id": "tjqkBxJo0wqZ",
        "colab": {
          "base_uri": "https://localhost:8080/"
        },
        "outputId": "52157bbe-9b8f-4409-a7f5-9e55144e4fd5"
      },
      "source": [
        "#file1 = open('/content/drive/MyDrive/Siamase_Output/vgg16.txt', 'a')\n",
        "#sys.stdout = file1\n",
        "with open(\"/content/drive/MyDrive/Siamase_Output/vgg16.txt\", 'w') as sys.stdout:\n",
        "  top1=0\n",
        "  top2=0\n",
        "  top3=0\n",
        "  top4=0\n",
        "  top5=0\n",
        "  top6=0\n",
        "  top7=0\n",
        "  top8=0\n",
        "  top9=0\n",
        "  top10=0\n",
        "  top15=0\n",
        "  top20=0\n",
        "  for j in range(len(query_img)):\n",
        "    res=findDist(query_img[j],all_feature,model)\n",
        "    ind=np.argsort(res)\n",
        "    if(train_labels[ind[0]]==query_labels[j]):\n",
        "      top1=top1+1\n",
        "    for k in range(2):\n",
        "      if(train_labels[ind[k]]==query_labels[j]):\n",
        "        top2=top2+1\n",
        "        break\n",
        "    for k in range(3):\n",
        "      if(train_labels[ind[k]]==query_labels[j]):\n",
        "        top3=top3+1\n",
        "        break\n",
        "    for k in range(4):\n",
        "      if(train_labels[ind[k]]==query_labels[j]):\n",
        "        top4=top4+1\n",
        "        break\n",
        "    for k in range(5):\n",
        "      if(train_labels[ind[k]]==query_labels[j]):\n",
        "        top5=top5+1\n",
        "        break\n",
        "    for k in range(6):\n",
        "      if(train_labels[ind[k]]==query_labels[j]):\n",
        "        top6=top6+1\n",
        "        break\n",
        "    for k in range(7):\n",
        "      if(train_labels[ind[k]]==query_labels[j]):\n",
        "        top7=top7+1\n",
        "        break\n",
        "    for k in range(8):\n",
        "      if(train_labels[ind[k]]==query_labels[j]):\n",
        "        top8=top8+1\n",
        "        break\n",
        "    for k in range(9):\n",
        "      if(train_labels[ind[k]]==query_labels[j]):\n",
        "        top9=top9+1\n",
        "        break\n",
        "    for k in range(10):\n",
        "      if(train_labels[ind[k]]==query_labels[j]):\n",
        "        top10=top10+1\n",
        "        break\n",
        "    for k in range(15):\n",
        "      if(train_labels[ind[k]]==query_labels[j]):\n",
        "        top15=top15+1\n",
        "        break\n",
        "    for k in range(20):\n",
        "      if(train_labels[ind[k]]==query_labels[j]):\n",
        "        top20=top20+1\n",
        "        break\n",
        "    print(\"Top 1 best match with the query image\")\n",
        "    print(\"Query label :\"+str(query_labels[j]))\n",
        "    print(train_labels[ind[k]])\n",
        "    \n",
        "    print(\"Top 5 best match with the query image\")\n",
        "    print(\"Query label :\"+str(query_labels[j]))\n",
        "    for k in range(5):\n",
        "      print(train_labels[ind[k]])\n",
        "      #print(ind[k])\n",
        "      \n",
        "    print(\"Top 10 best match with the query image\")\n",
        "    print(\"Query label :\"+str(query_labels[j]))\n",
        "    for k in range(10):\n",
        "      print(train_labels[ind[k]])\n",
        "      #print(ind[k])\n",
        "    print(\"Top 15 best match with the query image\")\n",
        "    print(\"Query label :\"+str(query_labels[j]))\n",
        "    for k in range(15):\n",
        "      print(train_labels[ind[k]])\n",
        "    print(\"Top 20 best match with the query image\")\n",
        "    print(\"Query label :\"+str(query_labels[j]))\n",
        "    for k in range(20):\n",
        "      print(train_labels[ind[k]])\n",
        "      \n",
        "  top1_acc=(top1/len(query_img))*100\n",
        "  top2_acc=(top2/len(query_img))*100\n",
        "  top3_acc=(top3/len(query_img))*100\n",
        "  top4_acc=(top4/len(query_img))*100\n",
        "  top5_acc=(top5/len(query_img))*100\n",
        "  top6_acc=(top6/len(query_img))*100\n",
        "  top7_acc=(top7/len(query_img))*100\n",
        "  top8_acc=(top8/len(query_img))*100\n",
        "  top9_acc=(top9/len(query_img))*100\n",
        "  top10_acc=(top10/len(query_img))*100\n",
        "  top15_acc=(top15/len(query_img))*100\n",
        "  top20_acc=(top20/len(query_img))*100\n",
        "  print(\"Top1 Accuracy=\"+str(top1_acc))\n",
        "  print(\"Top2 Accuracy=\"+str(top2_acc))\n",
        "  print(\"Top3 Accuracy=\"+str(top3_acc))\n",
        "  print(\"Top4 Accuracy=\"+str(top4_acc))\n",
        "  print(\"Top5 Accuracy=\"+str(top5_acc))\n",
        "  print(\"Top6 Accuracy=\"+str(top6_acc))\n",
        "  print(\"Top7 Accuracy=\"+str(top7_acc))\n",
        "  print(\"Top8 Accuracy=\"+str(top8_acc))\n",
        "  print(\"Top9 Accuracy=\"+str(top9_acc))\n",
        "  print(\"Top10 Accuracy=\"+str(top10_acc))\n",
        "  print(\"Top15 Accuracy=\"+str(top15_acc))\n",
        "  print(\"Top20 Accuracy=\"+str(top20_acc))\n",
        "#print(top1_acc,top5_acc)\n",
        "#file1.close()"
      ],
      "execution_count": null,
      "outputs": [
        {
          "output_type": "stream",
          "text": [
            "Exception in callback BaseAsyncIOLoop._handle_events(17, 1)\n",
            "handle: <Handle BaseAsyncIOLoop._handle_events(17, 1)>\n",
            "Traceback (most recent call last):\n",
            "  File \"/usr/lib/python3.7/asyncio/events.py\", line 88, in _run\n",
            "    self._context.run(self._callback, *self._args)\n",
            "  File \"/usr/local/lib/python3.7/dist-packages/tornado/platform/asyncio.py\", line 122, in _handle_events\n",
            "    handler_func(fileobj, events)\n",
            "  File \"/usr/local/lib/python3.7/dist-packages/tornado/stack_context.py\", line 300, in null_wrapper\n",
            "    return fn(*args, **kwargs)\n",
            "  File \"/usr/local/lib/python3.7/dist-packages/zmq/eventloop/zmqstream.py\", line 451, in _handle_events\n",
            "    self._handle_recv()\n",
            "  File \"/usr/local/lib/python3.7/dist-packages/zmq/eventloop/zmqstream.py\", line 480, in _handle_recv\n",
            "    self._run_callback(callback, msg)\n",
            "  File \"/usr/local/lib/python3.7/dist-packages/zmq/eventloop/zmqstream.py\", line 434, in _run_callback\n",
            "    callback(*args, **kwargs)\n",
            "  File \"/usr/local/lib/python3.7/dist-packages/tornado/stack_context.py\", line 300, in null_wrapper\n",
            "    return fn(*args, **kwargs)\n",
            "  File \"/usr/local/lib/python3.7/dist-packages/ipykernel/kernelbase.py\", line 283, in dispatcher\n",
            "    return self.dispatch_shell(stream, msg)\n",
            "  File \"/usr/local/lib/python3.7/dist-packages/ipykernel/kernelbase.py\", line 239, in dispatch_shell\n",
            "    sys.stdout.flush()\n",
            "ValueError: I/O operation on closed file.\n"
          ],
          "name": "stderr"
        }
      ]
    },
    {
      "cell_type": "code",
      "metadata": {
        "id": "QhnbYvvx00bT"
      },
      "source": [
        "print(res)\n",
        "print(ind)"
      ],
      "execution_count": null,
      "outputs": []
    },
    {
      "cell_type": "code",
      "metadata": {
        "id": "5oV5zl2v03IE"
      },
      "source": [
        "#print(res[11],train_labels[11])\n",
        "print(train_labels[981])"
      ],
      "execution_count": null,
      "outputs": []
    },
    {
      "cell_type": "code",
      "metadata": {
        "id": "euPNr_Kz05LT"
      },
      "source": [
        "print(query_labels[30])"
      ],
      "execution_count": null,
      "outputs": []
    }
  ]
}